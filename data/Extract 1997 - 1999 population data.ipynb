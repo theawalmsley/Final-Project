{
 "cells": [
  {
   "cell_type": "code",
   "execution_count": 101,
   "metadata": {},
   "outputs": [],
   "source": [
    "import pandas as pd\n",
    "import re\n",
    "cols = [\"Year\", \"State FIPS\", \"Age Group\", \"Race-Sex\",\"Ethnic Origin\",\"Population\"]\n"
   ]
  },
  {
   "cell_type": "code",
   "execution_count": 102,
   "metadata": {},
   "outputs": [],
   "source": [
    "state_code = pd.read_csv('state_code.txt', sep='|')\n",
    "state_dict = {}\n",
    "for i in range(len(state_code)):\n",
    "    state_dict[state_code['STATE'][i]] = state_code['STATE_NAME'][i]"
   ]
  },
  {
   "cell_type": "code",
   "execution_count": 103,
   "metadata": {},
   "outputs": [],
   "source": [
    "pop97 = pd.read_csv('97pop.csv',header=None)\n",
    "pop97.columns = cols\n",
    "pop97['State FIPS'] = pop97['State FIPS'].astype(str).str.slice(0,-3)\n",
    "pop97['State FIPS'] = pop97['State FIPS'].astype(int)\n",
    "pop97['State FIPS'].replace(state_dict, inplace=True)"
   ]
  },
  {
   "cell_type": "code",
   "execution_count": 104,
   "metadata": {},
   "outputs": [],
   "source": [
    "pop98 = pd.read_csv('98pop.csv',header=None)\n",
    "pop98.columns = cols\n",
    "pop98['State FIPS'] = pop98['State FIPS'].astype(str).str.slice(0,-3)\n",
    "pop98['State FIPS'] = pop98['State FIPS'].astype(int)\n",
    "pop98['State FIPS'].replace(state_dict, inplace=True)"
   ]
  },
  {
   "cell_type": "code",
   "execution_count": 105,
   "metadata": {},
   "outputs": [],
   "source": [
    "pop99 = pd.read_csv('99pop.csv',header=None)\n",
    "pop99.columns = cols\n",
    "pop99['State FIPS'] = pop99['State FIPS'].astype(str).str.slice(0,-3)\n",
    "pop99['State FIPS'] = pop99['State FIPS'].astype(int)\n",
    "pop99['State FIPS'].replace(state_dict, inplace=True)"
   ]
  },
  {
   "cell_type": "code",
   "execution_count": 106,
   "metadata": {},
   "outputs": [],
   "source": [
    "new_pop97 = pop97.groupby(['State FIPS'])['Population'].sum().reset_index()\n",
    "new_pop98 = pop98.groupby(['State FIPS'])['Population'].sum().reset_index()\n",
    "new_pop99 = pop99.groupby(['State FIPS'])['Population'].sum().reset_index()"
   ]
  },
  {
   "cell_type": "code",
   "execution_count": 112,
   "metadata": {},
   "outputs": [],
   "source": [
    "d = {'States': new_pop97['State FIPS'], '1997-pop': new_pop97['Population'],\n",
    "    '1998-pop': new_pop98['Population'],\n",
    "    '1999-pop': new_pop99['Population']}\n",
    "\n",
    "pop_97_99 = pd.DataFrame(d)\n",
    "pop_97_99.to_csv('97-99 pop.csv')\n"
   ]
  },
  {
   "cell_type": "code",
   "execution_count": 124,
   "metadata": {},
   "outputs": [],
   "source": [
    "pop97_ym = pop97.loc[pop97['Age Group'].isin([4,5,6,7]) &  pop97['Race-Sex'].isin([1,3,5,7])] \n",
    "pop97_ym = pop97_ym.groupby(['State FIPS'])['Population'].sum().reset_index()\n",
    "\n",
    "pop98_ym = pop98.loc[pop98['Age Group'].isin([4,5,6,7]) &  pop98['Race-Sex'].isin([1,3,5,7])] \n",
    "pop98_ym = pop98_ym.groupby(['State FIPS'])['Population'].sum().reset_index()\n",
    "\n",
    "pop99_ym = pop99.loc[pop99['Age Group'].isin([4,5,6,7]) &  pop99['Race-Sex'].isin([1,3,5,7])] \n",
    "pop99_ym = pop99_ym.groupby(['State FIPS'])['Population'].sum().reset_index()\n",
    "\n"
   ]
  },
  {
   "cell_type": "code",
   "execution_count": 125,
   "metadata": {},
   "outputs": [],
   "source": [
    "ym = {'States': pop97_ym['State FIPS'], \n",
    "      '1997-ym': pop97_ym['Population'],\n",
    "    '1998-ym': pop98_ym['Population'],\n",
    "    '1999-ym': pop99_ym['Population']}\n",
    "\n",
    "ym_97_99 = pd.DataFrame(ym)\n",
    "ym_97_99.to_csv('97-99 ym.csv')"
   ]
  },
  {
   "cell_type": "code",
   "execution_count": 131,
   "metadata": {},
   "outputs": [],
   "source": [
    "ym_01_04 = pd.read_csv('ym_2001-2004_raw.csv')\n",
    "ym_01 = ym_01_04.groupby(['NAME'])['POPESTIMATE2001'].sum().reset_index()\n",
    "ym_02 = ym_01_04.groupby(['NAME'])['POPESTIMATE2002'].sum().reset_index()\n",
    "ym_03 = ym_01_04.groupby(['NAME'])['POPESTIMATE2003'].sum().reset_index()\n",
    "ym_04 = ym_01_04.groupby(['NAME'])['POPESTIMATE2004'].sum().reset_index()\n",
    "\n",
    "ym_01_04_data = {'States': ym_01['NAME'], \n",
    "                '2001-ym': ym_01['POPESTIMATE2001'],\n",
    "                '2002-ym': ym_02['POPESTIMATE2002'],\n",
    "                '2003-ym': ym_03['POPESTIMATE2003'],\n",
    "                '2004-ym': ym_04['POPESTIMATE2004']}\n",
    "\n",
    "ym_01_04 = pd.DataFrame(ym_01_04_data)\n",
    "ym_01_04.to_csv('01-04 ym.csv')"
   ]
  }
 ],
 "metadata": {
  "kernelspec": {
   "display_name": "Python 3",
   "language": "python",
   "name": "python3"
  },
  "language_info": {
   "codemirror_mode": {
    "name": "ipython",
    "version": 3
   },
   "file_extension": ".py",
   "mimetype": "text/x-python",
   "name": "python",
   "nbconvert_exporter": "python",
   "pygments_lexer": "ipython3",
   "version": "3.6.5"
  }
 },
 "nbformat": 4,
 "nbformat_minor": 2
}
